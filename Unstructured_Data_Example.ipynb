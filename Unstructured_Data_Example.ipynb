{
 "cells": [
  {
   "cell_type": "code",
   "execution_count": null,
   "source": [
    "import os\n",
    "import numpy as np\n",
    "import pandas as pd\n",
    "import torch\n",
    "import torch.nn as nn\n",
    "import torch.nn.functional as F\n",
    "from torch.autograd import Variable\n",
    "import torch.optim as optim \n",
    "from torchvision import datasets, transforms\n",
    "from torch.utils.data import Dataset, DataLoader, random_split\n",
    "import gurobipy as gp\n",
    "from gurobipy import GRB\n",
    "from tqdm import tqdm \n",
    "from datasets import LFW_Dataset \n",
    "from helper import *  \n",
    "from models import BasicBlock, ResNet"
   ],
   "outputs": [],
   "metadata": {}
  },
  {
   "cell_type": "code",
   "execution_count": null,
   "source": [
    "target_attribute = \"Smiling\"\n",
    "sens_attribute = \"Male\"\n",
    "nominal = False "
   ],
   "outputs": [],
   "metadata": {}
  },
  {
   "cell_type": "code",
   "execution_count": null,
   "source": [
    "device = torch.device('cuda' if torch.cuda.is_available() else 'cpu')"
   ],
   "outputs": [],
   "metadata": {}
  },
  {
   "cell_type": "code",
   "execution_count": null,
   "source": [
    "# set parameters \n",
    "num_epochs = 20 \n",
    "lr_theta = 1e-3 \n",
    "lr_z = 1e-1 \n",
    "epsilon = 0.01 "
   ],
   "outputs": [],
   "metadata": {}
  },
  {
   "cell_type": "code",
   "execution_count": null,
   "source": [
    "dataset = LFW_Dataset(targ=target_attribute, sens_attr=sens_attribute, train=True, vgg=False, sub=False)\n",
    "train_loader = DataLoader(dataset, batch_size=64, shuffle=True, drop_last=True)\n",
    "train_sens_1, train_y_1 = dataset.get_values()"
   ],
   "outputs": [],
   "metadata": {}
  },
  {
   "cell_type": "code",
   "execution_count": null,
   "source": [
    "model = ResNet(img_channels=3, num_layers=18, block=BasicBlock, num_classes=1)\n",
    "model = model.to(device)\n",
    "opt = optim.Adam(model.parameters(), lr=lr_theta) "
   ],
   "outputs": [],
   "metadata": {}
  },
  {
   "cell_type": "code",
   "execution_count": null,
   "source": [
    "z_list = []\n",
    "z0_train = torch.tensor([0 for i in range(len(train_y_1))])\n",
    "z0_train = z0_train.to(device)\n",
    "train_sens_1 = torch.Tensor(list(train_sens_1))\n",
    "train_y_1 = torch.Tensor(list(train_y_1))\n",
    "flag = get_flag(train_sens_1, train_y_1)\n",
    "z0_train = proj_z_unstructured(z0_train, train_sens_1, train_y_1, flag, epsilon)"
   ],
   "outputs": [],
   "metadata": {}
  },
  {
   "cell_type": "code",
   "execution_count": null,
   "source": [
    "for _ in range(num_epochs): \n",
    "    if nominal: \n",
    "        train_err, train_loss = epoch_nominal(train_loader, model, opt=opt)\n",
    "    else: \n",
    "        train_err, train_loss, z = epoch_flipped_unstructured(train_loader, model, z0_train, train_sens_1, train_y_1, epsilon=epsilon, lr_z=lr_z, opt=opt)\n",
    "        z0_train = z\n",
    "        print(*(\"{:.6f}\".format(i) for i in (train_err, train_loss)), sep=\"\\t\") \n",
    "\n",
    "state = {\n",
    "            'epoch': num_epochs,\n",
    "            'state_dict': model.state_dict(),\n",
    "            'optimizer': opt.state_dict(),\n",
    "        }\n",
    "\n",
    "if nominal:\n",
    "    nom_str = 'nominal'\n",
    "else:\n",
    "    nom_str = 'flipped'\n",
    "\n",
    "if sens_attribute == 'Male':\n",
    "    sens_str = 'gender'\n",
    "else:\n",
    "    sens_str = 'race'\n",
    "\n",
    "savepath='LFW_'+target_attribute+'_checkpoint_'+nom_str+'_'+sens_str+'.pth'\n",
    "torch.save(state,savepath)"
   ],
   "outputs": [],
   "metadata": {}
  }
 ],
 "metadata": {
  "orig_nbformat": 4,
  "language_info": {
   "name": "python",
   "version": "3.7.7",
   "mimetype": "text/x-python",
   "codemirror_mode": {
    "name": "ipython",
    "version": 3
   },
   "pygments_lexer": "ipython3",
   "nbconvert_exporter": "python",
   "file_extension": ".py"
  },
  "kernelspec": {
   "name": "python3",
   "display_name": "Python 3.7.7 64-bit ('venv')"
  },
  "interpreter": {
   "hash": "4a858cf3661ac2489b9865ec1ed6c5ac98c6419382005e5521f9dbda633e206d"
  }
 },
 "nbformat": 4,
 "nbformat_minor": 2
}