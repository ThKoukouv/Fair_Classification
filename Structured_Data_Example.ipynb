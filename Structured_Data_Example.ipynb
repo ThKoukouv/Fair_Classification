{
 "cells": [
  {
   "cell_type": "code",
   "execution_count": 1,
   "source": [
    "import os\n",
    "import numpy as np\n",
    "import pandas as pd\n",
    "import torch\n",
    "import torch.nn as nn\n",
    "import torch.nn.functional as F\n",
    "from torch.autograd import Variable\n",
    "import torch.optim as optim \n",
    "from torchvision import datasets, transforms\n",
    "from torch.utils.data import Dataset, DataLoader, random_split\n",
    "import gurobipy as gp\n",
    "from gurobipy import GRB\n",
    "from tqdm import tqdm \n",
    "from datasets import all_data \n",
    "from helper import *  \n",
    "from models import LogisticRegressionModel"
   ],
   "outputs": [],
   "metadata": {}
  },
  {
   "cell_type": "code",
   "execution_count": 2,
   "source": [
    "merit_attrs_dict = {'lsac': [2,3], 'crime': [54,61], 'compas': [395,399]}"
   ],
   "outputs": [],
   "metadata": {}
  },
  {
   "cell_type": "code",
   "execution_count": 3,
   "source": [
    "dataset_name = 'lsac'\n",
    "sens_attribute = \"Race\"\n",
    "nominal = False\n",
    "merit = True"
   ],
   "outputs": [],
   "metadata": {}
  },
  {
   "cell_type": "code",
   "execution_count": 4,
   "source": [
    "train_x = pd.read_csv('train_X_'+dataset_name+'.csv')\n",
    "train_x.columns"
   ],
   "outputs": [
    {
     "output_type": "execute_result",
     "data": {
      "text/plain": [
       "Index(['decile1b', 'decile3', 'lsat', 'ugpa', 'zfygpa', 'zgpa', 'fulltime',\n",
       "       'fam_inc', 'male', 'tier', 'race'],\n",
       "      dtype='object')"
      ]
     },
     "metadata": {},
     "execution_count": 4
    }
   ],
   "metadata": {}
  },
  {
   "cell_type": "code",
   "execution_count": 5,
   "source": [
    "device = torch.device('cuda' if torch.cuda.is_available() else 'cpu')"
   ],
   "outputs": [],
   "metadata": {}
  },
  {
   "cell_type": "code",
   "execution_count": 6,
   "source": [
    "# set parameters \n",
    "num_epochs = 20 \n",
    "lr_theta = 1e-3 \n",
    "lr_z = 1e-1 \n",
    "epsilon = 0.01 \n",
    "delta = 0.2 "
   ],
   "outputs": [],
   "metadata": {}
  },
  {
   "cell_type": "code",
   "execution_count": 7,
   "source": [
    "dataset = all_data(sens_attribute=sens_attribute, train=True, dataset_name=dataset_name)\n",
    "merit_attrs = merit_attrs_dict[dataset_name] \n",
    "train_loader = DataLoader(dataset, batch_size=64, shuffle=True, drop_last=True)\n",
    "train_X_1, train_sens_1, train_y_1 = dataset.get_values()\n",
    "flag = dataset.get_flag()\n",
    "train_x_bar = dataset.get_xbar()\n",
    "dataset_features = dataset.get_columns()\n",
    "merit_attrs_strs = [dataset_features[i] for i in merit_attrs]"
   ],
   "outputs": [],
   "metadata": {}
  },
  {
   "cell_type": "code",
   "execution_count": 8,
   "source": [
    "X, s, y, idx = next(iter(train_loader))\n",
    "num_feat = X.shape[1] \n",
    "model = LogisticRegressionModel(num_feat,1) \n",
    "model = model.to(device) \n",
    "model_parameters = filter(lambda p: p.requires_grad, model.parameters()) \n",
    "opt = optim.Adam(model.parameters(), lr=lr_theta)"
   ],
   "outputs": [],
   "metadata": {}
  },
  {
   "cell_type": "code",
   "execution_count": 9,
   "source": [
    "z_list = []\n",
    "z0_train = torch.tensor([0 for i in range(len(train_y_1))])\n",
    "z0_train = z0_train.to(device)\n",
    "train_X_1 = torch.Tensor(train_X_1)\n",
    "train_sens_1 = torch.Tensor(list(train_sens_1))\n",
    "train_y_1 = torch.Tensor(list(train_y_1))\n",
    "z0_train = proj_z_structured(z0_train, train_sens_1, train_y_1, train_X_1, train_x_bar, flag, epsilon, delta, merit_attrs)"
   ],
   "outputs": [
    {
     "output_type": "stream",
     "name": "stdout",
     "text": [
      "Academic license - for non-commercial use only - expires 2023-10-25\n",
      "Using license file /Users/thodoris/gurobi.lic\n"
     ]
    }
   ],
   "metadata": {}
  },
  {
   "cell_type": "code",
   "execution_count": 11,
   "source": [
    "for _ in range(num_epochs):\n",
    "      if nominal:\n",
    "          train_err, train_loss = epoch_nominal(train_loader, model, opt=opt)\n",
    "      else:\n",
    "          train_err, train_loss, z = epoch_flipped_structured(train_loader, model, z0_train, train_sens_1, train_y_1, train_X_1, train_x_bar, flag, merit_attrs, epsilon=epsilon, delta=delta, lr_z=lr_z, opt=opt)\n",
    "          z0_train = z\n",
    "\n",
    "      print(*(\"{:.6f}\".format(i) for i in (train_err, train_loss)), sep=\"\\t\")\n",
    "\n",
    "state = {\n",
    "          'epoch': num_epochs,\n",
    "          'state_dict': model.state_dict(),\n",
    "          'optimizer': opt.state_dict(),\n",
    "       }\n",
    "\n",
    "if nominal: \n",
    "    nom_str = 'nominal'\n",
    "else: \n",
    "    nom_str = 'flipped'\n",
    "\n",
    "if sens_attribute == 'Gender':\n",
    "    sens_str = 'gender'\n",
    "else:\n",
    "    sens_str = 'race'\n",
    "\n",
    "savepath = dataset_name+'_'+sens_str+'_checkpoint_'+nom_str+'.pth'\n",
    "torch.save(state,savepath)"
   ],
   "outputs": [
    {
     "output_type": "stream",
     "name": "stderr",
     "text": [
      "100%|██████████| 227/227 [00:00<00:00, 570.40it/s]"
     ]
    },
    {
     "output_type": "stream",
     "name": "stdout",
     "text": [
      "Academic license - for non-commercial use only - expires 2023-10-25\n"
     ]
    },
    {
     "output_type": "stream",
     "name": "stderr",
     "text": [
      "\n"
     ]
    },
    {
     "output_type": "stream",
     "name": "stdout",
     "text": [
      "Using license file /Users/thodoris/gurobi.lic\n"
     ]
    },
    {
     "output_type": "stream",
     "name": "stderr",
     "text": [
      " 69%|██████▊   | 156/227 [00:00<00:00, 766.24it/s]"
     ]
    },
    {
     "output_type": "stream",
     "name": "stdout",
     "text": [
      "0.112911\t0.326617\n"
     ]
    },
    {
     "output_type": "stream",
     "name": "stderr",
     "text": [
      "100%|██████████| 227/227 [00:00<00:00, 782.29it/s]"
     ]
    },
    {
     "output_type": "stream",
     "name": "stdout",
     "text": [
      "Academic license - for non-commercial use only - expires 2023-10-25\n",
      "Using license file /Users/thodoris/gurobi.lic\n"
     ]
    },
    {
     "output_type": "stream",
     "name": "stderr",
     "text": [
      "\n",
      " 30%|██▉       | 67/227 [00:00<00:00, 660.00it/s]"
     ]
    },
    {
     "output_type": "stream",
     "name": "stdout",
     "text": [
      "0.111401\t0.315585\n"
     ]
    },
    {
     "output_type": "stream",
     "name": "stderr",
     "text": [
      "100%|██████████| 227/227 [00:00<00:00, 600.64it/s]"
     ]
    },
    {
     "output_type": "stream",
     "name": "stdout",
     "text": [
      "Academic license - for non-commercial use only - expires 2023-10-25\n",
      "Using license file /Users/thodoris/gurobi.lic\n"
     ]
    },
    {
     "output_type": "stream",
     "name": "stderr",
     "text": [
      "\n",
      " 65%|██████▌   | 148/227 [00:00<00:00, 728.47it/s]"
     ]
    },
    {
     "output_type": "stream",
     "name": "stdout",
     "text": [
      "0.110989\t0.318277\n"
     ]
    },
    {
     "output_type": "stream",
     "name": "stderr",
     "text": [
      "100%|██████████| 227/227 [00:00<00:00, 750.50it/s]"
     ]
    },
    {
     "output_type": "stream",
     "name": "stdout",
     "text": [
      "Academic license - for non-commercial use only - expires 2023-10-25\n",
      "Using license file /Users/thodoris/gurobi.lic\n"
     ]
    },
    {
     "output_type": "stream",
     "name": "stderr",
     "text": [
      "\n",
      " 28%|██▊       | 63/227 [00:00<00:00, 626.98it/s]"
     ]
    },
    {
     "output_type": "stream",
     "name": "stdout",
     "text": [
      "0.109822\t0.301646\n"
     ]
    },
    {
     "output_type": "stream",
     "name": "stderr",
     "text": [
      "100%|██████████| 227/227 [00:00<00:00, 674.70it/s]"
     ]
    },
    {
     "output_type": "stream",
     "name": "stdout",
     "text": [
      "Academic license - for non-commercial use only - expires 2023-10-25\n",
      "Using license file /Users/thodoris/gurobi.lic\n"
     ]
    },
    {
     "output_type": "stream",
     "name": "stderr",
     "text": [
      "\n",
      " 65%|██████▍   | 147/227 [00:00<00:00, 714.64it/s]"
     ]
    },
    {
     "output_type": "stream",
     "name": "stdout",
     "text": [
      "0.109548\t0.306887\n"
     ]
    },
    {
     "output_type": "stream",
     "name": "stderr",
     "text": [
      "100%|██████████| 227/227 [00:00<00:00, 717.15it/s]"
     ]
    },
    {
     "output_type": "stream",
     "name": "stdout",
     "text": [
      "Academic license - for non-commercial use only - expires 2023-10-25\n",
      "Using license file /Users/thodoris/gurobi.lic\n"
     ]
    },
    {
     "output_type": "stream",
     "name": "stderr",
     "text": [
      "\n",
      " 65%|██████▌   | 148/227 [00:00<00:00, 721.64it/s]"
     ]
    },
    {
     "output_type": "stream",
     "name": "stdout",
     "text": [
      "0.109822\t0.308753\n"
     ]
    },
    {
     "output_type": "stream",
     "name": "stderr",
     "text": [
      "100%|██████████| 227/227 [00:00<00:00, 731.17it/s]"
     ]
    },
    {
     "output_type": "stream",
     "name": "stdout",
     "text": [
      "Academic license - for non-commercial use only - expires 2023-10-25\n",
      "Using license file /Users/thodoris/gurobi.lic\n"
     ]
    },
    {
     "output_type": "stream",
     "name": "stderr",
     "text": [
      "\n",
      " 27%|██▋       | 62/227 [00:00<00:00, 614.48it/s]"
     ]
    },
    {
     "output_type": "stream",
     "name": "stdout",
     "text": [
      "0.109410\t0.308870\n"
     ]
    },
    {
     "output_type": "stream",
     "name": "stderr",
     "text": [
      "100%|██████████| 227/227 [00:00<00:00, 612.77it/s]"
     ]
    },
    {
     "output_type": "stream",
     "name": "stdout",
     "text": [
      "Academic license - for non-commercial use only - expires 2023-10-25\n",
      "Using license file /Users/thodoris/gurobi.lic\n"
     ]
    },
    {
     "output_type": "stream",
     "name": "stderr",
     "text": [
      "\n",
      " 27%|██▋       | 61/227 [00:00<00:00, 606.94it/s]"
     ]
    },
    {
     "output_type": "stream",
     "name": "stdout",
     "text": [
      "0.109479\t0.307333\n"
     ]
    },
    {
     "output_type": "stream",
     "name": "stderr",
     "text": [
      "100%|██████████| 227/227 [00:00<00:00, 613.69it/s]"
     ]
    },
    {
     "output_type": "stream",
     "name": "stdout",
     "text": [
      "Academic license - for non-commercial use only - expires 2023-10-25\n",
      "Using license file /Users/thodoris/gurobi.lic\n"
     ]
    },
    {
     "output_type": "stream",
     "name": "stderr",
     "text": [
      "\n",
      " 64%|██████▍   | 145/227 [00:00<00:00, 707.11it/s]"
     ]
    },
    {
     "output_type": "stream",
     "name": "stdout",
     "text": [
      "0.108793\t0.308788\n"
     ]
    },
    {
     "output_type": "stream",
     "name": "stderr",
     "text": [
      "100%|██████████| 227/227 [00:00<00:00, 713.81it/s]"
     ]
    },
    {
     "output_type": "stream",
     "name": "stdout",
     "text": [
      "Academic license - for non-commercial use only - expires 2023-10-25\n",
      "Using license file /Users/thodoris/gurobi.lic\n"
     ]
    },
    {
     "output_type": "stream",
     "name": "stderr",
     "text": [
      "\n",
      " 28%|██▊       | 64/227 [00:00<00:00, 638.42it/s]"
     ]
    },
    {
     "output_type": "stream",
     "name": "stdout",
     "text": [
      "0.108175\t0.298657\n"
     ]
    },
    {
     "output_type": "stream",
     "name": "stderr",
     "text": [
      "100%|██████████| 227/227 [00:00<00:00, 602.05it/s]"
     ]
    },
    {
     "output_type": "stream",
     "name": "stdout",
     "text": [
      "Academic license - for non-commercial use only - expires 2023-10-25\n",
      "Using license file /Users/thodoris/gurobi.lic\n"
     ]
    },
    {
     "output_type": "stream",
     "name": "stderr",
     "text": [
      "\n",
      " 65%|██████▌   | 148/227 [00:00<00:00, 719.60it/s]"
     ]
    },
    {
     "output_type": "stream",
     "name": "stdout",
     "text": [
      "0.107763\t0.305692\n"
     ]
    },
    {
     "output_type": "stream",
     "name": "stderr",
     "text": [
      "100%|██████████| 227/227 [00:00<00:00, 741.59it/s]"
     ]
    },
    {
     "output_type": "stream",
     "name": "stdout",
     "text": [
      "Academic license - for non-commercial use only - expires 2023-10-25\n",
      "Using license file /Users/thodoris/gurobi.lic\n"
     ]
    },
    {
     "output_type": "stream",
     "name": "stderr",
     "text": [
      "\n",
      " 32%|███▏      | 73/227 [00:00<00:00, 725.03it/s]"
     ]
    },
    {
     "output_type": "stream",
     "name": "stdout",
     "text": [
      "0.107763\t0.302287\n"
     ]
    },
    {
     "output_type": "stream",
     "name": "stderr",
     "text": [
      "100%|██████████| 227/227 [00:00<00:00, 743.08it/s]"
     ]
    },
    {
     "output_type": "stream",
     "name": "stdout",
     "text": [
      "Academic license - for non-commercial use only - expires 2023-10-25\n",
      "Using license file /Users/thodoris/gurobi.lic\n"
     ]
    },
    {
     "output_type": "stream",
     "name": "stderr",
     "text": [
      "\n",
      " 22%|██▏       | 50/227 [00:00<00:00, 492.33it/s]"
     ]
    },
    {
     "output_type": "stream",
     "name": "stdout",
     "text": [
      "0.105429\t0.296216\n"
     ]
    },
    {
     "output_type": "stream",
     "name": "stderr",
     "text": [
      "100%|██████████| 227/227 [00:00<00:00, 549.18it/s]"
     ]
    },
    {
     "output_type": "stream",
     "name": "stdout",
     "text": [
      "Academic license - for non-commercial use only - expires 2023-10-25\n",
      "Using license file /Users/thodoris/gurobi.lic\n"
     ]
    },
    {
     "output_type": "stream",
     "name": "stderr",
     "text": [
      "\n",
      " 28%|██▊       | 64/227 [00:00<00:00, 636.36it/s]"
     ]
    },
    {
     "output_type": "stream",
     "name": "stdout",
     "text": [
      "0.107489\t0.302165\n"
     ]
    },
    {
     "output_type": "stream",
     "name": "stderr",
     "text": [
      "100%|██████████| 227/227 [00:00<00:00, 670.24it/s]"
     ]
    },
    {
     "output_type": "stream",
     "name": "stdout",
     "text": [
      "Academic license - for non-commercial use only - expires 2023-10-25\n",
      "Using license file /Users/thodoris/gurobi.lic\n"
     ]
    },
    {
     "output_type": "stream",
     "name": "stderr",
     "text": [
      "\n",
      " 54%|█████▍    | 123/227 [00:00<00:00, 628.80it/s]"
     ]
    },
    {
     "output_type": "stream",
     "name": "stdout",
     "text": [
      "0.106939\t0.302068\n"
     ]
    },
    {
     "output_type": "stream",
     "name": "stderr",
     "text": [
      "100%|██████████| 227/227 [00:00<00:00, 617.83it/s]"
     ]
    },
    {
     "output_type": "stream",
     "name": "stdout",
     "text": [
      "Academic license - for non-commercial use only - expires 2023-10-25\n",
      "Using license file /Users/thodoris/gurobi.lic\n"
     ]
    },
    {
     "output_type": "stream",
     "name": "stderr",
     "text": [
      "\n",
      " 69%|██████▉   | 157/227 [00:00<00:00, 784.16it/s]"
     ]
    },
    {
     "output_type": "stream",
     "name": "stdout",
     "text": [
      "0.106459\t0.305194\n"
     ]
    },
    {
     "output_type": "stream",
     "name": "stderr",
     "text": [
      "100%|██████████| 227/227 [00:00<00:00, 780.23it/s]"
     ]
    },
    {
     "output_type": "stream",
     "name": "stdout",
     "text": [
      "Academic license - for non-commercial use only - expires 2023-10-25\n",
      "Using license file /Users/thodoris/gurobi.lic\n"
     ]
    },
    {
     "output_type": "stream",
     "name": "stderr",
     "text": [
      "\n",
      " 34%|███▍      | 78/227 [00:00<00:00, 769.97it/s]"
     ]
    },
    {
     "output_type": "stream",
     "name": "stdout",
     "text": [
      "0.107420\t0.308136\n"
     ]
    },
    {
     "output_type": "stream",
     "name": "stderr",
     "text": [
      "100%|██████████| 227/227 [00:00<00:00, 779.28it/s]"
     ]
    },
    {
     "output_type": "stream",
     "name": "stdout",
     "text": [
      "Academic license - for non-commercial use only - expires 2023-10-25\n",
      "Using license file /Users/thodoris/gurobi.lic\n"
     ]
    },
    {
     "output_type": "stream",
     "name": "stderr",
     "text": [
      "\n",
      " 35%|███▌      | 80/227 [00:00<00:00, 798.09it/s]"
     ]
    },
    {
     "output_type": "stream",
     "name": "stdout",
     "text": [
      "0.107626\t0.308057\n"
     ]
    },
    {
     "output_type": "stream",
     "name": "stderr",
     "text": [
      "100%|██████████| 227/227 [00:00<00:00, 786.88it/s]"
     ]
    },
    {
     "output_type": "stream",
     "name": "stdout",
     "text": [
      "Academic license - for non-commercial use only - expires 2023-10-25\n",
      "Using license file /Users/thodoris/gurobi.lic\n"
     ]
    },
    {
     "output_type": "stream",
     "name": "stderr",
     "text": [
      "\n",
      " 67%|██████▋   | 151/227 [00:00<00:00, 729.72it/s]"
     ]
    },
    {
     "output_type": "stream",
     "name": "stdout",
     "text": [
      "0.108381\t0.303356\n"
     ]
    },
    {
     "output_type": "stream",
     "name": "stderr",
     "text": [
      "100%|██████████| 227/227 [00:00<00:00, 730.36it/s]"
     ]
    },
    {
     "output_type": "stream",
     "name": "stdout",
     "text": [
      "Academic license - for non-commercial use only - expires 2023-10-25\n",
      "Using license file /Users/thodoris/gurobi.lic\n"
     ]
    },
    {
     "output_type": "stream",
     "name": "stderr",
     "text": [
      "\n"
     ]
    },
    {
     "output_type": "stream",
     "name": "stdout",
     "text": [
      "0.107489\t0.304616\n"
     ]
    }
   ],
   "metadata": {}
  },
  {
   "cell_type": "code",
   "execution_count": null,
   "source": [],
   "outputs": [],
   "metadata": {}
  },
  {
   "cell_type": "code",
   "execution_count": null,
   "source": [],
   "outputs": [],
   "metadata": {}
  }
 ],
 "metadata": {
  "orig_nbformat": 4,
  "language_info": {
   "name": "python",
   "version": "3.7.7",
   "mimetype": "text/x-python",
   "codemirror_mode": {
    "name": "ipython",
    "version": 3
   },
   "pygments_lexer": "ipython3",
   "nbconvert_exporter": "python",
   "file_extension": ".py"
  },
  "kernelspec": {
   "name": "python3",
   "display_name": "Python 3.7.7 64-bit ('venv')"
  },
  "interpreter": {
   "hash": "4a858cf3661ac2489b9865ec1ed6c5ac98c6419382005e5521f9dbda633e206d"
  }
 },
 "nbformat": 4,
 "nbformat_minor": 2
}